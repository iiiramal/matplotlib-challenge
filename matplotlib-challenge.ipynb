{
 "cells": [
  {
   "cell_type": "code",
   "execution_count": null,
   "id": "7db0e575",
   "metadata": {},
   "outputs": [],
   "source": [
    "#Observations and Insights\n",
    "#Based on observation mouse weight is correlated with tumor size, and as mouse weight increases so does the size of the tumor. \n",
    "#Capumolin appears to be effective in reducing the size of tumors. \n",
    "#Capumolin and Ramicane appear to be similarly effective, and better choices than Infubinol and Ceftamin for treating tumors based on avg tumor size. "
   ]
  },
  {
   "cell_type": "code",
   "execution_count": null,
   "id": "f352d98e",
   "metadata": {},
   "outputs": [],
   "source": [
    "# Dependencies and Setup\n",
    "import matplotlib.pyplot as plt\n",
    "import pandas as pd\n",
    "import scipy.stats as st\n",
    "import numpy as np\n",
    "from scipy.stats import linregress\n",
    "\n",
    "# Study data files\n",
    "mouse_metadata_path = \"data/Mouse_metadata.csv\"\n",
    "study_results_path = \"data/Study_results.csv\"\n",
    "\n",
    "# Read the mouse data and the study results\n",
    "mouse_metadata = pd.read_csv(mouse_metadata_path)\n",
    "study_results = pd.read_csv(study_results_path)\n",
    "\n",
    "# Combine the data into a single dataset\n",
    "study_data_complete = pd.merge(study_results, mouse_metadata, how=\"left\", on=\"Mouse ID\")\n",
    "\n",
    "# Display the data table for preview\n",
    "study_data_complete"
   ]
  },
  {
   "cell_type": "code",
   "execution_count": null,
   "id": "931ff82b",
   "metadata": {},
   "outputs": [],
   "source": [
    "mouse_count = len(study_data_complete[\"Mouse ID\"].unique())\n",
    "mouse_count"
   ]
  },
  {
   "cell_type": "code",
   "execution_count": null,
   "id": "6a564000",
   "metadata": {},
   "outputs": [],
   "source": [
    "mouse_count_df = study_data_complete[['Mouse ID', 'Timepoint']].copy()\n",
    "mouse_count_df = mouse_count_df.set_index('Mouse ID')\n",
    "mouse_count_df = mouse_count_df.groupby('Mouse ID').count()\n",
    "mouse_count_df.sort_values(by=['Timepoint'], ascending=False, inplace=True)\n",
    "mouse_count_df.head()"
   ]
  },
  {
   "cell_type": "code",
   "execution_count": null,
   "id": "f79f7919",
   "metadata": {
    "scrolled": true
   },
   "outputs": [],
   "source": [
    "study_data_complete.loc[study_data_complete.duplicated(subset=['Mouse ID', 'Timepoint'], keep=False)]"
   ]
  },
  {
   "cell_type": "code",
   "execution_count": null,
   "id": "8670ff53",
   "metadata": {},
   "outputs": [],
   "source": [
    "study_data_complete = study_data_complete.drop_duplicates(subset=['Mouse ID', 'Timepoint'], keep=False)\n",
    "study_data_complete"
   ]
  },
  {
   "cell_type": "code",
   "execution_count": null,
   "id": "851acb9d",
   "metadata": {},
   "outputs": [],
   "source": [
    "#Summary Statistics\n",
    "study_data_complete_summary = study_data_complete.groupby('Drug Regimen').agg({'Tumor Volume (mm3)': [np.mean,np.median,np.var,np.std,st.sem]})\n",
    "study_data_complete_summary.columns = ['Mean Tumor Volume','Median Tumor Volume', 'Tumor Volume Variance', 'Tumor Volume Std Dev','Tumor Volume SEM']\n",
    "study_data_complete_summary"
   ]
  },
  {
   "cell_type": "code",
   "execution_count": null,
   "id": "9b8fb585",
   "metadata": {
    "scrolled": true
   },
   "outputs": [],
   "source": [
    "drug_table = study_data_complete[['Drug Regimen', 'Mouse ID']].copy()\n",
    "drug_table = drug_table.drop_duplicates(subset=['Drug Regimen', 'Mouse ID'], keep= 'first')"
   ]
  },
  {
   "cell_type": "code",
   "execution_count": null,
   "id": "a89d4f43",
   "metadata": {},
   "outputs": [],
   "source": [
    "#drug_table = drug_table.set_index('Drug Regimen')\n",
    "drug_table.groupby('Drug Regimen').agg({'Mouse ID': ['count']})\n",
    "drug_table"
   ]
  },
  {
   "cell_type": "code",
   "execution_count": null,
   "id": "dfd406db",
   "metadata": {},
   "outputs": [],
   "source": [
    "drug_table = drug_table.groupby('Drug Regimen', as_index = False).agg({'Mouse ID': ['count']})\n",
    "drug_table.columns = ['Drug Regimen', 'Mouse Count']\n",
    "#drug_table.columns = drug_table.columns.droplevel(1)\n",
    "drug_table"
   ]
  },
  {
   "cell_type": "code",
   "execution_count": null,
   "id": "f9b636c5",
   "metadata": {},
   "outputs": [],
   "source": [
    "maxaxis = drug_table['Mouse Count'].max()\n",
    "topax = maxaxis + 5"
   ]
  },
  {
   "cell_type": "code",
   "execution_count": null,
   "id": "016d5145",
   "metadata": {},
   "outputs": [],
   "source": [
    "#Bar Plots: pandas.DataFrame.plot()\n",
    "drug_table.plot(kind = 'bar', y='Mouse Count', x='Drug Regimen', title = 'Mice Count By Drug Regimen').axes.set_ylim(0,maxaxis+5)\n",
    "plt.show()"
   ]
  },
  {
   "cell_type": "code",
   "execution_count": null,
   "id": "3c1f8258",
   "metadata": {},
   "outputs": [],
   "source": [
    "#Bar Plots: matplotlib.pyplot()\n",
    "plt.bar(drug_table['Drug Regimen'], drug_table['Mouse Count'])\n",
    "plt.title('Mice Count By Drug Regimen')\n",
    "plt.xticks(rotation = 90)\n",
    "plt.ylim(top=topax)\n",
    "plt.show()"
   ]
  },
  {
   "cell_type": "code",
   "execution_count": null,
   "id": "5a0364ce",
   "metadata": {},
   "outputs": [],
   "source": [
    "mouse_gender = study_data_complete[['Mouse ID', 'Sex']].copy()\n",
    "mouse_gender = mouse_gender.drop_duplicates()\n",
    "mouse_gender = mouse_gender.groupby('Sex').agg({'Mouse ID': ['count']})\n",
    "mouse_gender.columns = ['Mouse Count']\n",
    "mouse_gender.sort_values(by=['Mouse Count'], ascending=False, inplace=True)\n",
    "#mouse_gender.insert(2,\"Percentage\", mouse_gender['Mouse Count']/mouse_count)\n",
    "mouse_gender"
   ]
  },
  {
   "cell_type": "code",
   "execution_count": null,
   "id": "6a116ec9",
   "metadata": {},
   "outputs": [],
   "source": [
    "#Pie Plots: pandas.DataFrame.plot()\n",
    "colors = ['#1c72e9','#ffe4e1']\n",
    "mouse_gender.plot( autopct='%1.1f%%', kind = 'pie', y = 'Mouse Count', colors = colors, legend=False, title='Mouse Distribution by Gender').set_ylabel('Sex')\n",
    "plt.show()"
   ]
  },
  {
   "cell_type": "code",
   "execution_count": null,
   "id": "ffc1905f",
   "metadata": {},
   "outputs": [],
   "source": [
    "#Pie Plots: matplotlib.pyplot()\n",
    "plt.pie(mouse_gender['Mouse Count'],autopct=\"%1.1f%%\", shadow=True, labels = mouse_gender.index, colors=colors)\n",
    "plt.title('Mouse Distribution by Gender')\n",
    "plt.ylabel('Sex')\n",
    "plt.show()"
   ]
  },
  {
   "cell_type": "code",
   "execution_count": null,
   "id": "6c10f3bc",
   "metadata": {},
   "outputs": [],
   "source": [
    "MaxTime = study_data_complete[['Mouse ID', 'Timepoint']].copy()\n",
    "MaxTime = MaxTime.groupby('Mouse ID').agg({'Timepoint': ['max']})\n",
    "MaxTime.columns = ['Timepoint']\n",
    "MaxTime"
   ]
  },
  {
   "cell_type": "code",
   "execution_count": null,
   "id": "4a148863",
   "metadata": {},
   "outputs": [],
   "source": [
    "study_data_complete_end = pd.merge(MaxTime, study_data_complete,  how=\"left\", on=[\"Mouse ID\", 'Timepoint'])\n",
    "study_data_complete_end"
   ]
  },
  {
   "cell_type": "code",
   "execution_count": null,
   "id": "6611cd84",
   "metadata": {},
   "outputs": [],
   "source": [
    "successful_drugs = ('Capomulin', 'Ramicane', 'Infubinol','Ceftamin')\n",
    "capomulin = ['Capomulin']\n",
    "print(successful_drugs)"
   ]
  },
  {
   "cell_type": "code",
   "execution_count": null,
   "id": "3d9e4379",
   "metadata": {},
   "outputs": [],
   "source": [
    "study_data_complete_end = study_data_complete_end[study_data_complete_end['Drug Regimen'].isin(successful_drugs)]\n",
    "study_data_complete_end = study_data_complete_end.sort_values(by=['Timepoint'], ascending=True)\n",
    "study_data_complete_end"
   ]
  },
  {
   "cell_type": "code",
   "execution_count": null,
   "id": "b19bae74",
   "metadata": {},
   "outputs": [],
   "source": [
    "tumors = study_data_complete_end['Tumor Volume (mm3)']"
   ]
  },
  {
   "cell_type": "code",
   "execution_count": null,
   "id": "3605a76f",
   "metadata": {},
   "outputs": [],
   "source": [
    "#Quartiles, IQR and Outliers\n",
    "quartiles = tumors.quantile([.25,.5,.75])\n",
    "lowerq = quartiles[0.25]\n",
    "upperq = quartiles[0.75]\n",
    "iqr = upperq-lowerq"
   ]
  },
  {
   "cell_type": "code",
   "execution_count": null,
   "id": "b98a2aed",
   "metadata": {},
   "outputs": [],
   "source": [
    "#Quartiles, IQR and Outliers\n",
    "print(f\"The lower quartile of Tumor Volume is: {lowerq}\")\n",
    "print(f\"The upper quartile of Tumor Volume is: {upperq}\")\n",
    "print(f\"The interquartile range of Tumor Volume is: {iqr}\")\n",
    "print(f\"The the median of Tumor Volume is: {quartiles[0.5]} \")\n",
    "\n",
    "lower_bound = lowerq - (1.5*iqr)\n",
    "upper_bound = upperq + (1.5*iqr)\n",
    "print(f\"Values below {lower_bound} could be outliers.\")\n",
    "print(f\"Values above {upper_bound} could be outliers.\")"
   ]
  },
  {
   "cell_type": "code",
   "execution_count": null,
   "id": "535c81ca",
   "metadata": {},
   "outputs": [],
   "source": [
    "Ceftamine_tumor_volume = []\n",
    "Capomulin_tumor_volume = []\n",
    "Infubinol_tumor_volume = []\n",
    "Ramicane_tumor_volume = []"
   ]
  },
  {
   "cell_type": "code",
   "execution_count": null,
   "id": "73074b7a",
   "metadata": {},
   "outputs": [],
   "source": [
    "Ceftamine_tumor_volume = study_data_complete_end.loc[study_data_complete_end['Drug Regimen'] == 'Ceftamin', 'Tumor Volume (mm3)']\n",
    "Capomulin_tumor_volume = study_data_complete_end.loc[study_data_complete_end['Drug Regimen'] == 'Capomulin', 'Tumor Volume (mm3)']\n",
    "Infubinol_tumor_volume = study_data_complete_end.loc[study_data_complete_end['Drug Regimen'] == 'Infubinol', 'Tumor Volume (mm3)']\n",
    "Ramicane_tumor_volume = study_data_complete_end.loc[study_data_complete_end['Drug Regimen'] == 'Ramicane', 'Tumor Volume (mm3)']\n",
    "plot_list = [Capomulin_tumor_volume,Ramicane_tumor_volume,Infubinol_tumor_volume, Ceftamine_tumor_volume]"
   ]
  },
  {
   "cell_type": "code",
   "execution_count": null,
   "id": "b2f94dc9",
   "metadata": {},
   "outputs": [],
   "source": [
    "#Box Plots\n",
    "fig, ax = plt.subplots()\n",
    "ax.set_title('Tumor Volume for Drug Regimen')\n",
    "green_diamond = dict(markerfacecolor='#800080', marker='s')\n",
    "ax.boxplot(plot_list, flierprops=green_diamond)\n",
    "ax.set_xticklabels(successful_drugs)\n",
    "plt.show()"
   ]
  },
  {
   "cell_type": "code",
   "execution_count": null,
   "id": "28da5607",
   "metadata": {},
   "outputs": [],
   "source": [
    "individual_mouse = ['s185']\n",
    "individual_mouse_study = study_data_complete[study_data_complete['Mouse ID'].isin(individual_mouse)]\n",
    "individual_mouse_study = individual_mouse_study.set_index('Mouse ID')\n",
    "individual_mouse_study"
   ]
  },
  {
   "cell_type": "code",
   "execution_count": null,
   "id": "bdad8268",
   "metadata": {},
   "outputs": [],
   "source": [
    "#Line Plots\n",
    "plt.plot(individual_mouse_study.iloc[:,0],individual_mouse_study.iloc[:,1])\n",
    "plt.xlabel('Timepoint')\n",
    "plt.ylabel('Tumor Volume (mm3)')\n",
    "plt.title('Capumolin Results for Mouse s185')\n",
    "plt.show()"
   ]
  },
  {
   "cell_type": "code",
   "execution_count": null,
   "id": "c4fe6324",
   "metadata": {},
   "outputs": [],
   "source": [
    "study_data_complete_cap = study_data_complete[['Mouse ID', 'Drug Regimen','Weight (g)', 'Tumor Volume (mm3)']].copy()\n",
    "study_data_complete_cap = study_data_complete_cap[study_data_complete_cap['Drug Regimen'].isin(capomulin)]\n",
    "study_data_complete_cap = study_data_complete_cap.groupby(['Mouse ID', 'Drug Regimen'], as_index = False).agg({'Weight (g)': np.mean, 'Tumor Volume (mm3)' : np.mean})\n",
    "study_data_complete_cap"
   ]
  },
  {
   "cell_type": "code",
   "execution_count": null,
   "id": "4e34e11f",
   "metadata": {},
   "outputs": [],
   "source": [
    "weight_scatter = study_data_complete_cap.iloc[:,2]\n",
    "tumor_scatter = study_data_complete_cap.iloc[:,3]"
   ]
  },
  {
   "cell_type": "code",
   "execution_count": null,
   "id": "45804046",
   "metadata": {},
   "outputs": [],
   "source": [
    "#Scatter Plots\n",
    "plt.scatter(weight_scatter,tumor_scatter)\n",
    "plt.xlabel('Mouse Weight (g)')\n",
    "plt.ylabel('Tumor Volume (mm3)')\n",
    "plt.title('Tumor Volume Average vs Mouse Weight')\n",
    "plt.show()"
   ]
  },
  {
   "cell_type": "code",
   "execution_count": null,
   "id": "3fd723c5",
   "metadata": {},
   "outputs": [],
   "source": [
    "#Correlation and Regression\n",
    "correlation = st.pearsonr(weight_scatter,tumor_scatter)\n",
    "print(f\"The correlation between both factors is {round(correlation[0],2)}\")"
   ]
  },
  {
   "cell_type": "code",
   "execution_count": null,
   "id": "61a48f6b",
   "metadata": {},
   "outputs": [],
   "source": [
    "#Correlation and Regression\n",
    "(slope, intercept, rvalue, pvalue, stderr) = linregress(weight_scatter, tumor_scatter)\n",
    "regress_values = weight_scatter * slope + intercept\n",
    "line_eq = \"y = \" + str(round(slope,2)) + \"x + \" + str(round(intercept,2))\n",
    "plt.scatter(weight_scatter,tumor_scatter)\n",
    "plt.plot(weight_scatter,regress_values,\"r-\")\n",
    "plt.xlabel('Mouse Weight (g)')\n",
    "plt.ylabel('Tumor Volume (mm3) Avg')\n",
    "plt.title('Tumor Volume Average vs Mouse Weight w/ Regression')\n",
    "plt.show()"
   ]
  }
 ],
 "metadata": {
  "kernelspec": {
   "display_name": "Python 3 (ipykernel)",
   "language": "python",
   "name": "python3"
  },
  "language_info": {
   "codemirror_mode": {
    "name": "ipython",
    "version": 3
   },
   "file_extension": ".py",
   "mimetype": "text/x-python",
   "name": "python",
   "nbconvert_exporter": "python",
   "pygments_lexer": "ipython3",
   "version": "3.8.5"
  }
 },
 "nbformat": 4,
 "nbformat_minor": 5
}
